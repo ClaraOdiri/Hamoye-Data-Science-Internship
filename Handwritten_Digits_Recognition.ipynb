{
  "nbformat": 4,
  "nbformat_minor": 0,
  "metadata": {
    "colab": {
      "name": "Handwritten Digits Recognition.ipynb",
      "provenance": []
    },
    "kernelspec": {
      "name": "python3",
      "display_name": "Python 3"
    }
  },
  "cells": [
    {
      "cell_type": "markdown",
      "metadata": {
        "id": "UQR3rbG84kU_",
        "colab_type": "text"
      },
      "source": [
        "### MNIST Hand-written Digit Recognizer"
      ]
    },
    {
      "cell_type": "code",
      "metadata": {
        "id": "kvWOLl4m2iMV",
        "colab_type": "code",
        "colab": {}
      },
      "source": [
        "#importing libraries\n",
        "\n",
        "import numpy as np\n",
        "import matplotlib.pyplot as plt\n",
        "import tensorflow as tf\n",
        "from tensorflow import keras"
      ],
      "execution_count": 1,
      "outputs": []
    },
    {
      "cell_type": "code",
      "metadata": {
        "id": "juiPlYQv27eq",
        "colab_type": "code",
        "colab": {
          "base_uri": "https://localhost:8080/",
          "height": 51
        },
        "outputId": "57b45629-ec82-431e-dc7a-97ea44926a8c"
      },
      "source": [
        "#import the mnist dataset\n",
        "\n",
        "mnist = keras.datasets.mnist\n",
        "(train_images, train_labels), (test_images, test_labels) = mnist.load_data()"
      ],
      "execution_count": 2,
      "outputs": [
        {
          "output_type": "stream",
          "text": [
            "Downloading data from https://storage.googleapis.com/tensorflow/tf-keras-datasets/mnist.npz\n",
            "11493376/11490434 [==============================] - 0s 0us/step\n"
          ],
          "name": "stdout"
        }
      ]
    },
    {
      "cell_type": "markdown",
      "metadata": {
        "id": "tu07EUsh3scM",
        "colab_type": "text"
      },
      "source": [
        "### Explore The Data"
      ]
    },
    {
      "cell_type": "code",
      "metadata": {
        "id": "J9qTEjQ23Mnb",
        "colab_type": "code",
        "colab": {
          "base_uri": "https://localhost:8080/",
          "height": 68
        },
        "outputId": "2f62006a-2500-4b75-9114-29972a1a23c0"
      },
      "source": [
        "print(\"Training data: {}, {}\".format(train_images.shape, train_labels.shape))\n",
        "\n",
        "print(\"Test data: {}, {}\".format(test_images.shape, test_labels.shape))\n",
        "\n",
        "class_labels = np.unique(train_labels)\n",
        "print(\"There are {} classes in the dataset. They are: {}\".format(len(class_labels), class_labels))\n",
        "\n"
      ],
      "execution_count": null,
      "outputs": [
        {
          "output_type": "stream",
          "text": [
            "Training data: (60000, 28, 28), (60000,)\n",
            "Test data: (10000, 28, 28), (10000,)\n",
            "There are 10 classes in the dataset. They are: [0 1 2 3 4 5 6 7 8 9]\n"
          ],
          "name": "stdout"
        }
      ]
    },
    {
      "cell_type": "markdown",
      "metadata": {
        "id": "tODn9u6B6mAT",
        "colab_type": "text"
      },
      "source": [
        "### Preprocess the Data\n",
        "\n",
        "The data must be preprocessed before training the network. Inspecting some of the images in the data set, we see that the pixel values fall in the range of 0 to 255"
      ]
    },
    {
      "cell_type": "code",
      "metadata": {
        "id": "GAGCIbDv496B",
        "colab_type": "code",
        "colab": {
          "base_uri": "https://localhost:8080/",
          "height": 809
        },
        "outputId": "e875e1c6-9bba-4d88-d43e-e1dac4ff8e69"
      },
      "source": [
        "plt.figure()\n",
        "\n",
        "#plotting the first image in the training set\n",
        "plt.subplot()\n",
        "plt.imshow(train_images[0])\n",
        "plt.title(\"Label: {}\".format(train_labels[0]))\n",
        "\n",
        "\n",
        "plt.colorbar()\n",
        "plt.grid(False)\n",
        "plt.show()\n",
        "\n",
        "#plotting the 2500th image in the training set\n",
        "plt.subplot()\n",
        "plt.imshow(train_images[2500])\n",
        "plt.title(\"Label: {}\".format(train_labels[2500]))\n",
        "\n",
        "plt.colorbar()\n",
        "plt.grid(False)\n",
        "plt.show()\n",
        "\n",
        "#plotting the 12th image in the test set\n",
        "plt.subplot()\n",
        "plt.imshow(test_images[12])\n",
        "plt.title(\"Label: {}\".format(test_labels[12]))\n",
        "\n",
        "plt.colorbar()\n",
        "plt.grid(False)\n",
        "plt.show()"
      ],
      "execution_count": 3,
      "outputs": [
        {
          "output_type": "display_data",
          "data": {
            "image/png": "[encoded data removed]",
            "text/plain": [
              "<Figure size 432x288 with 2 Axes>"
            ]
          },
          "metadata": {
            "tags": [],
            "needs_background": "light"
          }
        },
        {
          "output_type": "display_data",
          "data": {
            "image/png": "[encoded data removed]",
            "text/plain": [
              "<Figure size 432x288 with 2 Axes>"
            ]
          },
          "metadata": {
            "tags": [],
            "needs_background": "light"
          }
        },
        {
          "output_type": "display_data",
          "data": {
            "image/png": "[encoded data removed]",
            "text/plain": [
              "<Figure size 432x288 with 2 Axes>"
            ]
          },
          "metadata": {
            "tags": [],
            "needs_background": "light"
          }
        }
      ]
    },
    {
      "cell_type": "markdown",
      "metadata": {
        "id": "b1GlcfA-7szQ",
        "colab_type": "text"
      },
      "source": [
        "Scale these values to a range of 0 to 1 before feeding them to the neural network model. To do so, divide the values by 255. The pixel values range from 0 to 255. Dividing the data by 255 scales to the required range. It's important that the training set and the testing set be preprocessed in the same way."
      ]
    },
    {
      "cell_type": "code",
      "metadata": {
        "id": "VSFPhWiX4-bp",
        "colab_type": "code",
        "colab": {}
      },
      "source": [
        "train_images = train_images / 255.0\n",
        "\n",
        "test_images = test_images / 255.0\n"
      ],
      "execution_count": 4,
      "outputs": []
    },
    {
      "cell_type": "code",
      "metadata": {
        "id": "5alLUzxd7Hfb",
        "colab_type": "code",
        "colab": {
          "base_uri": "https://localhost:8080/",
          "height": 281
        },
        "outputId": "584a0d5d-786a-41c7-cbc0-03a6893dc2eb"
      },
      "source": [
        "# recheck range of dataset after scaling\n",
        "\n",
        "plt.figure()\n",
        "\n",
        "#plotting the first image in the training set\n",
        "plt.subplot()\n",
        "plt.imshow(train_images[0])\n",
        "plt.title(\"Label: {}\".format(train_labels[0]))\n",
        "\n",
        "\n",
        "plt.colorbar()\n",
        "plt.grid(False)\n",
        "plt.show()\n"
      ],
      "execution_count": 5,
      "outputs": [
        {
          "output_type": "display_data",
          "data": {
            "image/png": "[encoded data removed]",
            "text/plain": [
              "<Figure size 432x288 with 2 Axes>"
            ]
          },
          "metadata": {
            "tags": [],
            "needs_background": "light"
          }
        }
      ]
    },
    {
      "cell_type": "code",
      "metadata": {
        "id": "tgMcpD2N8hBS",
        "colab_type": "code",
        "colab": {
          "base_uri": "https://localhost:8080/",
          "height": 85
        },
        "outputId": "f874f6af-4855-4edd-cb75-64fc1136d80e"
      },
      "source": [
        "#Split training data to training and validation sets\n",
        "\n",
        "x_train = train_images[0:50000]\n",
        "x_val = train_images[50000:]\n",
        "y_train = train_labels[0:50000]\n",
        "y_val = train_labels[50000:]\n",
        "\n",
        "print(\"x_train: {}\".format(x_train.shape)) \n",
        "print(\"x_val: {}\".format(x_val.shape)) \n",
        "print(\"y_train: {}\".format(y_train.shape)) \n",
        "print(\"y_val: {}\".format(y_val.shape)) \n",
        " "
      ],
      "execution_count": 7,
      "outputs": [
        {
          "output_type": "stream",
          "text": [
            "x_train: (50000, 28, 28)\n",
            "x_val: (10000, 28, 28)\n",
            "y_train: (50000,)\n",
            "y_val: (10000,)\n"
          ],
          "name": "stdout"
        }
      ]
    },
    {
      "cell_type": "markdown",
      "metadata": {
        "id": "vTfOFgPh-7EC",
        "colab_type": "text"
      },
      "source": [
        "Transform the format of the images from a two-dimensional array (of 28 by 28 pixels) to a one-dimensional array (of 28 * 28 = 784 pixels). Think of this as unstacking rows of pixels in the image and lining them up. "
      ]
    },
    {
      "cell_type": "code",
      "metadata": {
        "id": "Qkb5Ufod9JG4",
        "colab_type": "code",
        "colab": {
          "base_uri": "https://localhost:8080/",
          "height": 68
        },
        "outputId": "34732c94-ec95-4509-c80e-1c3e613ec1f6"
      },
      "source": [
        "#Reshaping the data\n",
        "new_dimension = np.prod(train_images.shape[1:])\n",
        "\n",
        "x_train = x_train.reshape(x_train.shape[0], new_dimension)\n",
        "\n",
        "x_val = x_val.reshape(x_val.shape[0], new_dimension)\n",
        "\n",
        "test_images = test_images.reshape(test_images.shape[0], new_dimension)\n",
        "\n",
        "print(\"x_train: {}\".format(x_train.shape)) \n",
        "print(\"x_val: {}\".format(x_val.shape)) \n",
        "print(\"test_images: {}\".format(test_images.shape)) \n"
      ],
      "execution_count": 8,
      "outputs": [
        {
          "output_type": "stream",
          "text": [
            "x_train: (50000, 784)\n",
            "x_val: (10000, 784)\n",
            "test_images: (10000, 784)\n"
          ],
          "name": "stdout"
        }
      ]
    },
    {
      "cell_type": "code",
      "metadata": {
        "id": "_eTUqhw1_dO7",
        "colab_type": "code",
        "colab": {}
      },
      "source": [
        "#Encode Labels to Categorical Variables\n",
        "\n",
        "from tensorflow.keras.utils import to_categorical\n",
        "\n",
        "num_labels = 10\n",
        "\n",
        "y_train = to_categorical(y_train, num_labels)\n",
        "\n",
        "y_val = to_categorical(y_val, num_labels)\n",
        "\n",
        "y_test = to_categorical(test_labels, num_labels)"
      ],
      "execution_count": 9,
      "outputs": []
    },
    {
      "cell_type": "markdown",
      "metadata": {
        "id": "Rlq5SphGDVI7",
        "colab_type": "text"
      },
      "source": [
        "### Activation Functions and Neural Network Hyperparameters"
      ]
    },
    {
      "cell_type": "markdown",
      "metadata": {
        "id": "MQvR_zXMHSyN",
        "colab_type": "text"
      },
      "source": [
        "We will now define an input placeholder X, which will have a dimension of None x 784 (new_dimension= 784) and the output placeholder with a dimension of None x 10.\n",
        "\n",
        "A placeholder is simply a variable that we will assign data to at a later date. It allows us to create our operations and build our computation graph, without needing the data. In TensorFlow terminology, we then feed data into the graph through these placeholders. The first dimension of the placeholder is None, meaning we can have any number of rows."
      ]
    },
    {
      "cell_type": "code",
      "metadata": {
        "id": "jiXgjHhVHbut",
        "colab_type": "code",
        "colab": {
          "base_uri": "https://localhost:8080/",
          "height": 88
        },
        "outputId": "1838762d-4f02-4e9f-94f5-ec98409ca6ce"
      },
      "source": [
        "# input layer\n",
        "#placeholders are not enabled in tf 2\n",
        "\n",
        "import tensorflow.compat.v1 as tf\n",
        "tf.disable_v2_behavior()\n",
        "\n",
        "\n",
        "X = tf.placeholder(tf.float32, [None, new_dimension])\n",
        "Y = tf.placeholder(tf.float32, [None, num_labels])\n"
      ],
      "execution_count": 13,
      "outputs": [
        {
          "output_type": "stream",
          "text": [
            "WARNING:tensorflow:From /usr/local/lib/python3.6/dist-packages/tensorflow/python/compat/v2_compat.py:96: disable_resource_variables (from tensorflow.python.ops.variable_scope) is deprecated and will be removed in a future version.\n",
            "Instructions for updating:\n",
            "non-resource variables are not supported in the long term\n"
          ],
          "name": "stdout"
        }
      ]
    },
    {
      "cell_type": "markdown",
      "metadata": {
        "id": "wCccNwmRHf8L",
        "colab_type": "text"
      },
      "source": [
        "### Building the model Architecture"
      ]
    },
    {
      "cell_type": "code",
      "metadata": {
        "id": "Yhg1e0JeHrPJ",
        "colab_type": "code",
        "colab": {}
      },
      "source": [
        "# create model architecture\n",
        "def multilayer_perceptron(x, no_classes, first_layer_neurons=256, second_layer_neurons=128):\n",
        "  # first layer\n",
        "  first_weight = tf.Variable(tf.random_uniform([new_dimension, first_layer_neurons]))\n",
        "  first_bias = tf.Variable(tf.zeros([first_layer_neurons]))\n",
        "  first_layer_output = tf.nn.relu(tf.add(tf.matmul(x, first_weight), first_bias))\n",
        "\n",
        "  # second layer\n",
        "  second_weight = tf.Variable(tf.random_uniform([first_layer_neurons,second_layer_neurons]))\n",
        "  second_bias = tf.Variable(tf.zeros([second_layer_neurons]))\n",
        "  second_layer_output = tf.nn.relu(tf.add(tf.matmul(first_layer_output, second_weight), \n",
        "                                          second_bias))\n",
        "\n",
        "  # output layer\n",
        "  final_weight = tf.Variable(tf.random_uniform([second_layer_neurons, no_classes]))\n",
        "  final_bias = tf.Variable(tf.zeros([no_classes]))\n",
        "  logits = tf.add(tf.matmul(second_layer_output, final_weight), final_bias)\n",
        "\n",
        "  return logits"
      ],
      "execution_count": 14,
      "outputs": []
    },
    {
      "cell_type": "code",
      "metadata": {
        "id": "zw_36ZbLH7mA",
        "colab_type": "code",
        "colab": {
          "base_uri": "https://localhost:8080/",
          "height": 173
        },
        "outputId": "6ab0ebac-76f9-4438-8e71-6e6d4a6657e3"
      },
      "source": [
        "logits = multilayer_perceptron(X, num_labels)\n",
        "\n",
        "learning_rate = 0.01\n",
        "#we define the loss and optimiser for the network\n",
        "loss_op = tf.reduce_mean(tf.nn.softmax_cross_entropy_with_logits(logits=logits, labels=Y))\n",
        "optimiser = tf.train.AdamOptimizer(learning_rate=learning_rate)\n",
        "train_op = optimiser.minimize(loss_op)"
      ],
      "execution_count": 15,
      "outputs": [
        {
          "output_type": "stream",
          "text": [
            "WARNING:tensorflow:From /usr/local/lib/python3.6/dist-packages/tensorflow/python/util/dispatch.py:201: softmax_cross_entropy_with_logits (from tensorflow.python.ops.nn_ops) is deprecated and will be removed in a future version.\n",
            "Instructions for updating:\n",
            "\n",
            "Future major versions of TensorFlow will allow gradients to flow\n",
            "into the labels input on backprop by default.\n",
            "\n",
            "See `tf.nn.softmax_cross_entropy_with_logits_v2`.\n",
            "\n"
          ],
          "name": "stdout"
        }
      ]
    },
    {
      "cell_type": "markdown",
      "metadata": {
        "id": "5qoDFgQ7IJ_c",
        "colab_type": "text"
      },
      "source": [
        "### Running The Model"
      ]
    },
    {
      "cell_type": "code",
      "metadata": {
        "id": "w7qrhIX7KRd9",
        "colab_type": "code",
        "colab": {
          "base_uri": "https://localhost:8080/",
          "height": 374
        },
        "outputId": "23d214be-5894-4b76-e96d-40a40f13bdf0"
      },
      "source": [
        "#initialise the variables\n",
        "init = tf.global_variables_initializer()\n",
        "\n",
        "epochs = 20\n",
        "batch_size = 1000\n",
        "iteration = len(x_train) // batch_size\n",
        "#train model\n",
        "with tf.Session() as session:\n",
        "  session.run(init)\n",
        "  for epoch in range(epochs):\n",
        "    average_cost = 0\n",
        "    start, end = 0, batch_size\n",
        "    for i in range(iteration):\n",
        "      batch_x, batch_y = x_train[start: end], y_train[start: end]\n",
        "      _, loss = session.run([train_op, loss_op], feed_dict={X: batch_x, Y: batch_y})\n",
        "      start += batch_size\n",
        "      end += batch_size \n",
        "      #average loss\n",
        "      average_cost += loss/iteration\n",
        "    print(\"Epoch========{}\".format(epoch))\n",
        "    #evaluate model\n",
        "  prediction = tf.nn.softmax(logits)\n",
        "  ground_truth = tf.equal(tf.argmax(prediction, 1), tf.argmax(Y, 1))\n",
        "  accuracy = tf.reduce_mean(tf.cast(ground_truth, \"float\"))\n",
        "  print(\"Accuracy: {}\".format(accuracy.eval({X: test_images, Y: y_test})))"
      ],
      "execution_count": 29,
      "outputs": [
        {
          "output_type": "stream",
          "text": [
            "Epoch========0\n",
            "Epoch========1\n",
            "Epoch========2\n",
            "Epoch========3\n",
            "Epoch========4\n",
            "Epoch========5\n",
            "Epoch========6\n",
            "Epoch========7\n",
            "Epoch========8\n",
            "Epoch========9\n",
            "Epoch========10\n",
            "Epoch========11\n",
            "Epoch========12\n",
            "Epoch========13\n",
            "Epoch========14\n",
            "Epoch========15\n",
            "Epoch========16\n",
            "Epoch========17\n",
            "Epoch========18\n",
            "Epoch========19\n",
            "Accuracy: 0.920199990272522\n"
          ],
          "name": "stdout"
        }
      ]
    },
    {
      "cell_type": "markdown",
      "metadata": {
        "id": "VKCn4svKIjWI",
        "colab_type": "text"
      },
      "source": [
        "### Optimization for Training Deep Neural Network"
      ]
    },
    {
      "cell_type": "code",
      "metadata": {
        "id": "6ftKJn-UIZT3",
        "colab_type": "code",
        "colab": {}
      },
      "source": [
        "#Building a Sequential Feed Forward Network in Keras\n",
        "\n",
        "from tensorflow.keras.layers import Dense\n",
        "from tensorflow.keras.models import Sequential\n",
        "\n",
        "#Build the model object\n",
        "model = Sequential()\n",
        "\n",
        "# Build the input and the hidden layers\n",
        "model.add(Dense(256, activation='relu', input_shape=(new_dimension,)))\n",
        "model.add(Dense(128, activation='relu'))\n",
        "\n",
        "# Build the output layer\n",
        "model.add(Dense(num_labels, activation='softmax'))\n",
        "\n"
      ],
      "execution_count": 30,
      "outputs": []
    },
    {
      "cell_type": "markdown",
      "metadata": {
        "id": "D2hU0sMYM_R7",
        "colab_type": "text"
      },
      "source": [
        "\n",
        "Now that the model is in place, we configure the learning process using .compile(). Here we specify our loss function (or objective function). For our setting categorical cross entropy fits the bill, but in general other loss functions are available.\n",
        "\n",
        "As for the optimizer of choice we'll use Adam with default settings. We could also instantiate an optimizer and set parameters before passing it to model.compile() but for this example the defaults will do.\n",
        "\n",
        "We also choose which metrics will be evaluated during training and testing. We can pass any list of metrics - even build metrics ourselves - and have them displayed during training/testing."
      ]
    },
    {
      "cell_type": "code",
      "metadata": {
        "id": "6W5D4xqmMqOu",
        "colab_type": "code",
        "colab": {}
      },
      "source": [
        "#compile the model\n",
        "model.compile(optimizer='adam', loss=tf.keras.losses.categorical_crossentropy, \n",
        "              metrics=['accuracy'])"
      ],
      "execution_count": 31,
      "outputs": []
    },
    {
      "cell_type": "markdown",
      "metadata": {
        "id": "-AJXHK8qNIEq",
        "colab_type": "text"
      },
      "source": [
        "Having compiled our model we can now start the training process. We have to specify how many times we want to iterate on the whole training set (epochs) and how many samples we use for one update to the model's weights (batch size)."
      ]
    },
    {
      "cell_type": "code",
      "metadata": {
        "id": "DU-pNbLEI-hK",
        "colab_type": "code",
        "colab": {
          "base_uri": "https://localhost:8080/",
          "height": 748
        },
        "outputId": "12d51bdf-dee7-4299-8802-50136ac37b79"
      },
      "source": [
        "#fit the model\n",
        "history = model.fit(x_train, y_train, validation_data=(x_val, y_val), epochs=20, batch_size=1000)\n",
        "\n",
        "test_loss, test_accuracy = model.evaluate(test_images, y_test)\n",
        "print('Test loss: {}'.format(test_loss))\n",
        "print('Test accuracy: {}'.format(test_accuracy))"
      ],
      "execution_count": 46,
      "outputs": [
        {
          "output_type": "stream",
          "text": [
            "Train on 50000 samples, validate on 10000 samples\n",
            "Epoch 1/20\n",
            "50000/50000 [==============================] - 1s 23us/sample - loss: 1.2588e-04 - acc: 1.0000 - val_loss: 0.1035 - val_acc: 0.9800\n",
            "Epoch 2/20\n",
            "50000/50000 [==============================] - 1s 22us/sample - loss: 1.1991e-04 - acc: 1.0000 - val_loss: 0.1044 - val_acc: 0.9802\n",
            "Epoch 3/20\n",
            "50000/50000 [==============================] - 1s 23us/sample - loss: 1.1552e-04 - acc: 1.0000 - val_loss: 0.1044 - val_acc: 0.9802\n",
            "Epoch 4/20\n",
            "50000/50000 [==============================] - 1s 23us/sample - loss: 1.0958e-04 - acc: 1.0000 - val_loss: 0.1045 - val_acc: 0.9795\n",
            "Epoch 5/20\n",
            "50000/50000 [==============================] - 1s 23us/sample - loss: 1.0612e-04 - acc: 1.0000 - val_loss: 0.1056 - val_acc: 0.9796\n",
            "Epoch 6/20\n",
            "50000/50000 [==============================] - 1s 22us/sample - loss: 1.0301e-04 - acc: 1.0000 - val_loss: 0.1051 - val_acc: 0.9802\n",
            "Epoch 7/20\n",
            "50000/50000 [==============================] - 1s 22us/sample - loss: 9.9550e-05 - acc: 1.0000 - val_loss: 0.1062 - val_acc: 0.9799\n",
            "Epoch 8/20\n",
            "50000/50000 [==============================] - 1s 22us/sample - loss: 9.4612e-05 - acc: 1.0000 - val_loss: 0.1057 - val_acc: 0.9801\n",
            "Epoch 9/20\n",
            "50000/50000 [==============================] - 1s 22us/sample - loss: 9.1058e-05 - acc: 1.0000 - val_loss: 0.1065 - val_acc: 0.9797\n",
            "Epoch 10/20\n",
            "50000/50000 [==============================] - 1s 22us/sample - loss: 8.7797e-05 - acc: 1.0000 - val_loss: 0.1060 - val_acc: 0.9797\n",
            "Epoch 11/20\n",
            "50000/50000 [==============================] - 1s 22us/sample - loss: 8.4264e-05 - acc: 1.0000 - val_loss: 0.1080 - val_acc: 0.9794\n",
            "Epoch 12/20\n",
            "50000/50000 [==============================] - 1s 22us/sample - loss: 8.2446e-05 - acc: 1.0000 - val_loss: 0.1073 - val_acc: 0.9805\n",
            "Epoch 13/20\n",
            "50000/50000 [==============================] - 1s 22us/sample - loss: 7.9579e-05 - acc: 1.0000 - val_loss: 0.1075 - val_acc: 0.9798\n",
            "Epoch 14/20\n",
            "50000/50000 [==============================] - 1s 22us/sample - loss: 7.7808e-05 - acc: 1.0000 - val_loss: 0.1077 - val_acc: 0.9799\n",
            "Epoch 15/20\n",
            "50000/50000 [==============================] - 1s 22us/sample - loss: 7.2772e-05 - acc: 1.0000 - val_loss: 0.1081 - val_acc: 0.9795\n",
            "Epoch 16/20\n",
            "50000/50000 [==============================] - 1s 22us/sample - loss: 7.0124e-05 - acc: 1.0000 - val_loss: 0.1085 - val_acc: 0.9801\n",
            "Epoch 17/20\n",
            "50000/50000 [==============================] - 1s 22us/sample - loss: 6.7680e-05 - acc: 1.0000 - val_loss: 0.1089 - val_acc: 0.9796\n",
            "Epoch 18/20\n",
            "50000/50000 [==============================] - 1s 23us/sample - loss: 6.5535e-05 - acc: 1.0000 - val_loss: 0.1087 - val_acc: 0.9800\n",
            "Epoch 19/20\n",
            "50000/50000 [==============================] - 1s 22us/sample - loss: 6.3180e-05 - acc: 1.0000 - val_loss: 0.1098 - val_acc: 0.9798\n",
            "Epoch 20/20\n",
            "50000/50000 [==============================] - 1s 22us/sample - loss: 6.0839e-05 - acc: 1.0000 - val_loss: 0.1090 - val_acc: 0.9802\n",
            "Test loss: 0.10610207271782815\n",
            "Test accuracy: 0.9800999760627747\n"
          ],
          "name": "stdout"
        }
      ]
    },
    {
      "cell_type": "code",
      "metadata": {
        "id": "KvMQAHurw5KN",
        "colab_type": "code",
        "colab": {
          "base_uri": "https://localhost:8080/",
          "height": 312
        },
        "outputId": "ba032b3b-052b-43f3-dc5f-170d4888af74"
      },
      "source": [
        "#Check for Overfitting\n",
        "plt.figure()\n",
        "plt.plot(history.history['loss'], 'blue')\n",
        "plt.plot(history.history['val_loss'], 'red')\n",
        "plt.legend(['Training loss', 'Validation Loss'])\n",
        "plt.xlabel('Epochs')\n",
        "plt.ylabel('Loss')\n",
        "plt.title('Loss Curves - before regularisation')"
      ],
      "execution_count": 47,
      "outputs": [
        {
          "output_type": "execute_result",
          "data": {
            "text/plain": [
              "Text(0.5, 1.0, 'Loss Curves - before regularisation')"
            ]
          },
          "metadata": {
            "tags": []
          },
          "execution_count": 47
        },
        {
          "output_type": "display_data",
          "data": {
            "image/png": "[encoded data removed]",
            "text/plain": [
              "<Figure size 432x288 with 1 Axes>"
            ]
          },
          "metadata": {
            "tags": [],
            "needs_background": "light"
          }
        }
      ]
    },
    {
      "cell_type": "markdown",
      "metadata": {
        "id": "Mu3Wd9vJPwo-",
        "colab_type": "text"
      },
      "source": [
        "The validation and training loss don't look great, we can see that the validation loss decreases. This identifies overfitting in our network. How do we proceed? Introduce regularisation to the model.\n"
      ]
    },
    {
      "cell_type": "code",
      "metadata": {
        "id": "oCBnKlvOOWae",
        "colab_type": "code",
        "colab": {
          "base_uri": "https://localhost:8080/",
          "height": 748
        },
        "outputId": "0e26643d-13eb-49b0-85b9-7f6aa6da1156"
      },
      "source": [
        "from tensorflow.keras.layers import Dropout\n",
        "reg_model = Sequential()\n",
        "reg_model.add(Dense(256, activation='relu', input_shape=(new_dimension,)))\n",
        "reg_model.add(Dropout(0.4))\n",
        "reg_model.add(Dense(128, activation='relu'))\n",
        "reg_model.add(Dropout(0.4))\n",
        "reg_model.add(Dense(num_labels, activation='softmax'))\n",
        "\n",
        "reg_model.compile(optimizer='adam', loss=tf.keras.losses.categorical_crossentropy, \n",
        "              metrics=['accuracy'])\n",
        "\n",
        "reg_history = reg_model.fit(x_train, y_train, validation_data=(x_val, y_val), \n",
        "                            epochs=20, batch_size=1000)\n",
        "test_loss, test_accuracy = reg_model.evaluate(test_images, y_test)\n",
        "print('Test loss: {}'.format(test_loss))\n",
        "print('Test accuracy: {}'.format(test_accuracy))"
      ],
      "execution_count": 44,
      "outputs": [
        {
          "output_type": "stream",
          "text": [
            "Train on 50000 samples, validate on 10000 samples\n",
            "Epoch 1/20\n",
            "50000/50000 [==============================] - 1s 29us/sample - loss: 0.9592 - acc: 0.6950 - val_loss: 0.2952 - val_acc: 0.9144\n",
            "Epoch 2/20\n",
            "50000/50000 [==============================] - 1s 28us/sample - loss: 0.3785 - acc: 0.8873 - val_loss: 0.2066 - val_acc: 0.9417\n",
            "Epoch 3/20\n",
            "50000/50000 [==============================] - 1s 28us/sample - loss: 0.2828 - acc: 0.9179 - val_loss: 0.1639 - val_acc: 0.9525\n",
            "Epoch 4/20\n",
            "50000/50000 [==============================] - 1s 28us/sample - loss: 0.2329 - acc: 0.9324 - val_loss: 0.1381 - val_acc: 0.9612\n",
            "Epoch 5/20\n",
            "50000/50000 [==============================] - 1s 28us/sample - loss: 0.2000 - acc: 0.9411 - val_loss: 0.1227 - val_acc: 0.9638\n",
            "Epoch 6/20\n",
            "50000/50000 [==============================] - 1s 28us/sample - loss: 0.1747 - acc: 0.9481 - val_loss: 0.1119 - val_acc: 0.9662\n",
            "Epoch 7/20\n",
            "50000/50000 [==============================] - 1s 28us/sample - loss: 0.1583 - acc: 0.9534 - val_loss: 0.1030 - val_acc: 0.9686\n",
            "Epoch 8/20\n",
            "50000/50000 [==============================] - 1s 28us/sample - loss: 0.1421 - acc: 0.9575 - val_loss: 0.0973 - val_acc: 0.9702\n",
            "Epoch 9/20\n",
            "50000/50000 [==============================] - 1s 28us/sample - loss: 0.1293 - acc: 0.9613 - val_loss: 0.0930 - val_acc: 0.9720\n",
            "Epoch 10/20\n",
            "50000/50000 [==============================] - 1s 28us/sample - loss: 0.1202 - acc: 0.9643 - val_loss: 0.0892 - val_acc: 0.9725\n",
            "Epoch 11/20\n",
            "50000/50000 [==============================] - 1s 28us/sample - loss: 0.1134 - acc: 0.9659 - val_loss: 0.0857 - val_acc: 0.9746\n",
            "Epoch 12/20\n",
            "50000/50000 [==============================] - 1s 28us/sample - loss: 0.1036 - acc: 0.9684 - val_loss: 0.0834 - val_acc: 0.9753\n",
            "Epoch 13/20\n",
            "50000/50000 [==============================] - 1s 28us/sample - loss: 0.0979 - acc: 0.9704 - val_loss: 0.0803 - val_acc: 0.9756\n",
            "Epoch 14/20\n",
            "50000/50000 [==============================] - 1s 28us/sample - loss: 0.0920 - acc: 0.9722 - val_loss: 0.0781 - val_acc: 0.9758\n",
            "Epoch 15/20\n",
            "50000/50000 [==============================] - 1s 29us/sample - loss: 0.0875 - acc: 0.9727 - val_loss: 0.0793 - val_acc: 0.9762\n",
            "Epoch 16/20\n",
            "50000/50000 [==============================] - 1s 28us/sample - loss: 0.0806 - acc: 0.9751 - val_loss: 0.0759 - val_acc: 0.9776\n",
            "Epoch 17/20\n",
            "50000/50000 [==============================] - 1s 28us/sample - loss: 0.0767 - acc: 0.9766 - val_loss: 0.0755 - val_acc: 0.9777\n",
            "Epoch 18/20\n",
            "50000/50000 [==============================] - 1s 28us/sample - loss: 0.0725 - acc: 0.9775 - val_loss: 0.0759 - val_acc: 0.9778\n",
            "Epoch 19/20\n",
            "50000/50000 [==============================] - 1s 28us/sample - loss: 0.0697 - acc: 0.9786 - val_loss: 0.0738 - val_acc: 0.9799\n",
            "Epoch 20/20\n",
            "50000/50000 [==============================] - 1s 28us/sample - loss: 0.0669 - acc: 0.9792 - val_loss: 0.0754 - val_acc: 0.9790\n",
            "Test loss: 0.07195435914294794\n",
            "Test accuracy: 0.9789999723434448\n"
          ],
          "name": "stdout"
        }
      ]
    },
    {
      "cell_type": "code",
      "metadata": {
        "id": "OiRBk3o3PHa2",
        "colab_type": "code",
        "colab": {
          "base_uri": "https://localhost:8080/",
          "height": 312
        },
        "outputId": "e9908468-2142-4d3c-9e8f-42daae0872d1"
      },
      "source": [
        "plt.plot(reg_history.history['loss'], 'blue')\n",
        "plt.plot(reg_history.history['val_loss'], 'red')\n",
        "plt.legend(['Training loss', 'Validation Loss'])\n",
        "plt.xlabel('Epochs')\n",
        "plt.ylabel('Loss')\n",
        "plt.title('Loss Curves - after regularisation')"
      ],
      "execution_count": 45,
      "outputs": [
        {
          "output_type": "execute_result",
          "data": {
            "text/plain": [
              "Text(0.5, 1.0, 'Loss Curves - after regularisation')"
            ]
          },
          "metadata": {
            "tags": []
          },
          "execution_count": 45
        },
        {
          "output_type": "display_data",
          "data": {
            "image/png": "[encoded data removed]",
            "text/plain": [
              "<Figure size 432x288 with 1 Axes>"
            ]
          },
          "metadata": {
            "tags": [],
            "needs_background": "light"
          }
        }
      ]
    },
    {
      "cell_type": "markdown",
      "metadata": {
        "id": "l6i47aUIS8w8",
        "colab_type": "text"
      },
      "source": [
        "###Making Predictions"
      ]
    },
    {
      "cell_type": "code",
      "metadata": {
        "id": "9xj6AGnkR25T",
        "colab_type": "code",
        "colab": {
          "base_uri": "https://localhost:8080/",
          "height": 34
        },
        "outputId": "3efd4095-c131-4abe-ccec-507772e38556"
      },
      "source": [
        "predictions = model.predict([test_images]) # Make prediction\n",
        "print(np.argmax(predictions[1000])) #print out the number in that index"
      ],
      "execution_count": 48,
      "outputs": [
        {
          "output_type": "stream",
          "text": [
            "9\n"
          ],
          "name": "stdout"
        }
      ]
    },
    {
      "cell_type": "code",
      "metadata": {
        "id": "rWLd6hK8TFZ0",
        "colab_type": "code",
        "colab": {
          "base_uri": "https://localhost:8080/",
          "height": 181
        },
        "outputId": "7813c0d0-0958-463e-a543-910d7d8de6d2"
      },
      "source": [
        "# Let's see whether the image would turn out to be 9\n",
        "# Remember that the input data to the network were flattened for the purpose of learning to a vector with a length of 784. Before displaying it, we need to convert it back to the size of 28 x 28 pixels.\n",
        "plt.figure(figsize=(8, 5))\n",
        "\n",
        "plt.subplot(1,3,1)\n",
        "plt.imshow(test_images[1000].reshape(28,28), cmap=\"gray\") # Import the image\n",
        "plt.show() # Show the image"
      ],
      "execution_count": 49,
      "outputs": [
        {
          "output_type": "display_data",
          "data": {
            "image/png": "[encoded data removed]",
            "text/plain": [
              "<Figure size 576x360 with 1 Axes>"
            ]
          },
          "metadata": {
            "tags": [],
            "needs_background": "light"
          }
        }
      ]
    },
    {
      "cell_type": "code",
      "metadata": {
        "id": "WpYnT59ITNy0",
        "colab_type": "code",
        "colab": {
          "base_uri": "https://localhost:8080/",
          "height": 198
        },
        "outputId": "5c78f2e0-b0f6-4b70-d716-dcdd26e1b6f2"
      },
      "source": [
        "#Play around with other images and their prediction\n",
        "print(np.argmax(predictions[7532]))\n",
        "\n",
        "plt.figure(figsize=(8, 5))\n",
        "\n",
        "plt.subplot(1,3,1)\n",
        "plt.imshow(test_images[7532].reshape(28,28), cmap=\"gray\") # Import the image\n",
        "plt.show() # Show the image"
      ],
      "execution_count": 54,
      "outputs": [
        {
          "output_type": "stream",
          "text": [
            "6\n"
          ],
          "name": "stdout"
        },
        {
          "output_type": "display_data",
          "data": {
            "image/png": "[encoded data removed]",
            "text/plain": [
              "<Figure size 576x360 with 1 Axes>"
            ]
          },
          "metadata": {
            "tags": [],
            "needs_background": "light"
          }
        }
      ]
    },
    {
      "cell_type": "code",
      "metadata": {
        "id": "042g7Re2TlUa",
        "colab_type": "code",
        "colab": {
          "base_uri": "https://localhost:8080/",
          "height": 198
        },
        "outputId": "3cffb1c6-7de0-4b17-a25c-a895ebb845a9"
      },
      "source": [
        "print(np.argmax(predictions[974]))\n",
        "\n",
        "plt.figure(figsize=(8, 5))\n",
        "\n",
        "plt.subplot(1,3,1)\n",
        "plt.imshow(test_images[974].reshape(28,28), cmap=\"gray\") # Import the image\n",
        "plt.show() # Show the image"
      ],
      "execution_count": 55,
      "outputs": [
        {
          "output_type": "stream",
          "text": [
            "2\n"
          ],
          "name": "stdout"
        },
        {
          "output_type": "display_data",
          "data": {
            "image/png": "[encoded data removed]",
            "text/plain": [
              "<Figure size 576x360 with 1 Axes>"
            ]
          },
          "metadata": {
            "tags": [],
            "needs_background": "light"
          }
        }
      ]
    },
    {
      "cell_type": "code",
      "metadata": {
        "id": "2GCa75CGTphT",
        "colab_type": "code",
        "colab": {
          "base_uri": "https://localhost:8080/",
          "height": 198
        },
        "outputId": "943fce16-2a87-41ef-b2f8-a93398e7bc26"
      },
      "source": [
        "print(np.argmax(predictions[2567]))\n",
        "\n",
        "plt.figure(figsize=(8, 5))\n",
        "\n",
        "plt.subplot(1,3,1)\n",
        "plt.imshow(test_images[2567].reshape(28,28), cmap=\"gray\") \n",
        "plt.show() "
      ],
      "execution_count": 53,
      "outputs": [
        {
          "output_type": "stream",
          "text": [
            "7\n"
          ],
          "name": "stdout"
        },
        {
          "output_type": "display_data",
          "data": {
            "image/png": "[encoded data removed]",
            "text/plain": [
              "<Figure size 576x360 with 1 Axes>"
            ]
          },
          "metadata": {
            "tags": [],
            "needs_background": "light"
          }
        }
      ]
    },
    {
      "cell_type": "code",
      "metadata": {
        "id": "FYJqPMSIUIoi",
        "colab_type": "code",
        "colab": {}
      },
      "source": [
        ""
      ],
      "execution_count": null,
      "outputs": []
    }
  ]
}